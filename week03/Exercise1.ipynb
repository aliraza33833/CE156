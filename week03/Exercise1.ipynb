{
  "nbformat": 4,
  "nbformat_minor": 0,
  "metadata": {
    "colab": {
      "name": "Exercise1.ipynb",
      "provenance": [],
      "authorship_tag": "ABX9TyNi8iQ7XUwMupK9UEATV6NQ",
      "include_colab_link": true
    },
    "kernelspec": {
      "name": "python3",
      "display_name": "Python 3"
    },
    "language_info": {
      "name": "python"
    }
  },
  "cells": [
    {
      "cell_type": "markdown",
      "metadata": {
        "id": "view-in-github",
        "colab_type": "text"
      },
      "source": [
        "<a href=\"https://colab.research.google.com/github/aliraza33833/CE156/blob/main/week03/Exercise1.ipynb\" target=\"_parent\"><img src=\"https://colab.research.google.com/assets/colab-badge.svg\" alt=\"Open In Colab\"/></a>"
      ]
    },
    {
      "cell_type": "markdown",
      "source": [
        "Exercise 1. Simple repetition [for/while loops] using input and printing results. 1.1 Print all the inetgers between 0 and n, where n is a positive integer supplied by the user. 1.2 Print 10 numbers given as the input by the user. 1.3 Print the squares of 10 numbers given by the user. 1.4 Get the average of the squares of 10 numbers given by the user, and print the final result."
      ],
      "metadata": {
        "id": "I_6WTQVYkRMQ"
      }
    },
    {
      "cell_type": "code",
      "source": [
        ""
      ],
      "metadata": {
        "id": "Yw0NUG66kX5Z"
      },
      "execution_count": null,
      "outputs": []
    },
    {
      "cell_type": "markdown",
      "source": [
        "Exercise 2. Practising logic expressions and simple conditional statement 2.1 Print 10 numbers given as the input by the user if they are greater than 5. 2.2 Print 10 numbers given as the input by the user if they are greater than 15 and less than 20. 2.3 Obtain ten pairs of numbers from the user and print the larger of each pair"
      ],
      "metadata": {
        "id": "g5owPHzUkc_W"
      }
    },
    {
      "cell_type": "code",
      "source": [
        ""
      ],
      "metadata": {
        "id": "HwDHZbnHkeFE"
      },
      "execution_count": null,
      "outputs": []
    },
    {
      "cell_type": "markdown",
      "source": [
        "Exercise 3. Nested conditional.\n",
        "[Note that this exercise does not give you an exact way of calculating net salary but a similar approach is used for you to practise nested conditions]\n",
        "- The objective is to calculate tax based on input income (in pounds):\n",
        "- Get the salary as input from the user.\n",
        "- If the income is less than £5000, then tax is zero. Print the tax which is zero. Print the net salary as Net_salary = income\n",
        "- If the income is greater than £5000 and less than £20000, then, the tax is 10% of salary minus 5000. Therefore, tax must be calculated as [income-5000]*t, where t is 0.1. Print the net salary as Net_salary = income - tax\n",
        "- If the income is greater than £20000 and less than £50000, then, tax is 20% of the salary above £20000). The tax is calculated as tax = [income-20000]*t+1500, where t is 0.2. (£1500 is the result of taxed salary for the first £20000 salary. )Print the net salary as Net_salary = income - tax.\n",
        "- If income is greater than £50000, the tax is %30 for part of salary above £50000 [t is 30]. Calculate the salary the net salary as [income - 50000]*t+7500. Figure out where 7500 is coming from!\n"
      ],
      "metadata": {
        "id": "dyH77TXkkfCT"
      }
    },
    {
      "cell_type": "code",
      "source": [
        ""
      ],
      "metadata": {
        "id": "ODurQ1URklNH"
      },
      "execution_count": null,
      "outputs": []
    }
  ]
}