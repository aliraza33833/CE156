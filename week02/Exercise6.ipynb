{
  "nbformat": 4,
  "nbformat_minor": 0,
  "metadata": {
    "colab": {
      "name": "Exercise6.ipynb",
      "provenance": [],
      "authorship_tag": "ABX9TyMaJk07Wj7I8ViN5WclY7KX",
      "include_colab_link": true
    },
    "kernelspec": {
      "name": "python3",
      "display_name": "Python 3"
    },
    "language_info": {
      "name": "python"
    }
  },
  "cells": [
    {
      "cell_type": "markdown",
      "metadata": {
        "id": "view-in-github",
        "colab_type": "text"
      },
      "source": [
        "<a href=\"https://colab.research.google.com/github/aliraza33833/CE156/blob/main/week02/Exercise6.ipynb\" target=\"_parent\"><img src=\"https://colab.research.google.com/assets/colab-badge.svg\" alt=\"Open In Colab\"/></a>"
      ]
    },
    {
      "cell_type": "markdown",
      "source": [
        "Initialise x=0. Write a while loop that while x<=10, prints\n",
        "the value of x and then increments the value of x by 1.\n",
        "Add an else clause so that when x<=10 is no longer true\n",
        "you use\n",
        "print (x, \"Inside Else\") ."
      ],
      "metadata": {
        "id": "3yseW1mx2Mtq"
      }
    },
    {
      "cell_type": "code",
      "source": [
        ""
      ],
      "metadata": {
        "id": "r6TXVlcq2Nsk"
      },
      "execution_count": null,
      "outputs": []
    }
  ]
}