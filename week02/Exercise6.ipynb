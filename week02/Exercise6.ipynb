{
  "nbformat": 4,
  "nbformat_minor": 0,
  "metadata": {
    "colab": {
      "name": "Exercise6.ipynb",
      "provenance": [],
      "authorship_tag": "ABX9TyNj/pfsfQJLVz9wZw/wj7DO",
      "include_colab_link": true
    },
    "kernelspec": {
      "name": "python3",
      "display_name": "Python 3"
    },
    "language_info": {
      "name": "python"
    }
  },
  "cells": [
    {
      "cell_type": "markdown",
      "metadata": {
        "id": "view-in-github",
        "colab_type": "text"
      },
      "source": [
        "<a href=\"https://colab.research.google.com/github/aliraza33833/CE156/blob/main/week02/Exercise6.ipynb\" target=\"_parent\"><img src=\"https://colab.research.google.com/assets/colab-badge.svg\" alt=\"Open In Colab\"/></a>"
      ]
    },
    {
      "cell_type": "markdown",
      "source": [
        "Initialise x=0. Write a while loop that while x<=10, prints\n",
        "the value of x and then increments the value of x by 1.\n",
        "Add an else clause so that when x<=10 is no longer true\n",
        "you use\n",
        "print (x, \"Inside Else\") ."
      ],
      "metadata": {
        "id": "3yseW1mx2Mtq"
      }
    },
    {
      "cell_type": "code",
      "source": [
        "x=0\n",
        "while x <= 10:\n",
        "  print(x)\n",
        "  x+=1\n",
        "print (x, \"Inside Else\")"
      ],
      "metadata": {
        "id": "r6TXVlcq2Nsk",
        "outputId": "3fd98620-763f-42b2-a39a-39bb9befb6ce",
        "colab": {
          "base_uri": "https://localhost:8080/"
        }
      },
      "execution_count": 2,
      "outputs": [
        {
          "output_type": "stream",
          "name": "stdout",
          "text": [
            "0\n",
            "1\n",
            "2\n",
            "3\n",
            "4\n",
            "5\n",
            "6\n",
            "7\n",
            "8\n",
            "9\n",
            "10\n",
            "11 Inside Else\n"
          ]
        }
      ]
    }
  ]
}