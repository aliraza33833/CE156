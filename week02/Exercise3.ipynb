{
  "nbformat": 4,
  "nbformat_minor": 0,
  "metadata": {
    "colab": {
      "name": "Exercise3.ipynb",
      "provenance": [],
      "collapsed_sections": [],
      "authorship_tag": "ABX9TyOMqL74TzncLk0gMLz+jhDl",
      "include_colab_link": true
    },
    "kernelspec": {
      "name": "python3",
      "display_name": "Python 3"
    },
    "language_info": {
      "name": "python"
    }
  },
  "cells": [
    {
      "cell_type": "markdown",
      "metadata": {
        "id": "view-in-github",
        "colab_type": "text"
      },
      "source": [
        "<a href=\"https://colab.research.google.com/github/aliraza33833/CE156/blob/main/week02/Exercise3.ipynb\" target=\"_parent\"><img src=\"https://colab.research.google.com/assets/colab-badge.svg\" alt=\"Open In Colab\"/></a>"
      ]
    },
    {
      "cell_type": "markdown",
      "source": [
        "Write a brief script to perform the assignment **z = x + y** only if both\n",
        "**x** and **y** are greater to 0 and then output the values of **x, y** and **z**.\n",
        "(You will need to initialize z to 0 at the start of the script to ensure\n",
        "that it always has a value. Test the script with different values for **x**\n",
        "and **y**."
      ],
      "metadata": {
        "id": "xpi3v4CephNS"
      }
    },
    {
      "cell_type": "code",
      "source": [
        "z = 0\n",
        "x = float(input('Enter the value of x: '))\n",
        "y = float(input('Enter the value of y: '))\n",
        "\n",
        "if x > 0:\n",
        "  if y > 0:\n",
        "    z = x + y\n",
        "    print('The value of x is {}, y is {} and the z is {}.'.format(x,y,z))\n",
        "  else:\n",
        "    print('The value of y is nagative or 0')\n",
        "else:\n",
        "  print('The value of x is nagative or 0')"
      ],
      "metadata": {
        "colab": {
          "base_uri": "https://localhost:8080/"
        },
        "id": "R9VJ832bpvZ6",
        "outputId": "1b6e27a1-3d42-41d6-d400-97ec6e1fd65a"
      },
      "execution_count": 12,
      "outputs": [
        {
          "output_type": "stream",
          "name": "stdout",
          "text": [
            "Enter the value of x: 3\n",
            "Enter the value of y: 3\n",
            "The value of x is 3.0, y is 3.0 and the z is 6.0.\n"
          ]
        }
      ]
    }
  ]
}