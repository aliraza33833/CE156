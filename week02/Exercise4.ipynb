{
  "nbformat": 4,
  "nbformat_minor": 0,
  "metadata": {
    "colab": {
      "name": "Exercise4.ipynb",
      "provenance": [],
      "authorship_tag": "ABX9TyPeKTVF2rlEiIwXJNCZ6MQ7",
      "include_colab_link": true
    },
    "kernelspec": {
      "name": "python3",
      "display_name": "Python 3"
    },
    "language_info": {
      "name": "python"
    }
  },
  "cells": [
    {
      "cell_type": "markdown",
      "metadata": {
        "id": "view-in-github",
        "colab_type": "text"
      },
      "source": [
        "<a href=\"https://colab.research.google.com/github/aliraza33833/CE156/blob/main/week02/Exercise4.ipynb\" target=\"_parent\"><img src=\"https://colab.research.google.com/assets/colab-badge.svg\" alt=\"Open In Colab\"/></a>"
      ]
    },
    {
      "cell_type": "markdown",
      "source": [
        "Write a brief script in which \n",
        "**(a)** if y > x it will perform z = y - x,\n",
        "**(b)** else if (using the “elif” statement) x > y it will perform z = x - y, \n",
        "**(c)** or otherwise (using “else”) print that “x is equal to y”? \n",
        "Test it with different initialisations for x and y"
      ],
      "metadata": {
        "id": "JkuIF5TbucV-"
      }
    },
    {
      "cell_type": "code",
      "source": [
        "x = float(input('Enter the value of x: '))\n",
        "y = float(input('Enter the value of y: '))\n",
        "\n",
        "if y > x:\n",
        "  z = y - x\n",
        "  print('The value of x is {}, y is {} and y - x is {}.'.format(x,y,z))\n",
        "elif x > y:\n",
        "  z = x - y\n",
        "  print('The value of x is {}, y is {} and x - y is {}.'.format(x,y,z))\n",
        "else:\n",
        "  print('The value of x is equal to y.')"
      ],
      "metadata": {
        "colab": {
          "base_uri": "https://localhost:8080/"
        },
        "id": "XF1XR7XAuhJe",
        "outputId": "976a6c91-728e-4770-bcb0-afba89ce69a3"
      },
      "execution_count": 11,
      "outputs": [
        {
          "output_type": "stream",
          "name": "stdout",
          "text": [
            "Enter the value of x: 8\n",
            "Enter the value of y: 9\n",
            "The value of x is 8.0, y is 9.0 and y - x is 1.0.\n"
          ]
        }
      ]
    }
  ]
}