{
  "nbformat": 4,
  "nbformat_minor": 0,
  "metadata": {
    "colab": {
      "name": "Exercise5.ipynb",
      "provenance": [],
      "authorship_tag": "ABX9TyNV3puy91ooBPAy+toxM0Wl",
      "include_colab_link": true
    },
    "kernelspec": {
      "name": "python3",
      "display_name": "Python 3"
    },
    "language_info": {
      "name": "python"
    }
  },
  "cells": [
    {
      "cell_type": "markdown",
      "metadata": {
        "id": "view-in-github",
        "colab_type": "text"
      },
      "source": [
        "<a href=\"https://colab.research.google.com/github/aliraza33833/CE156/blob/main/week02/Exercise5.ipynb\" target=\"_parent\"><img src=\"https://colab.research.google.com/assets/colab-badge.svg\" alt=\"Open In Colab\"/></a>"
      ]
    },
    {
      "cell_type": "markdown",
      "source": [
        "• Write a script with two main branches in which the first\n",
        "branch states that “if” your mark is greater than 50, you print\n",
        "that you “pass”; the second branch states that “else” you\n",
        "print that you “fail”.\n",
        "• In the first branch, subdivide the print functions as per the\n",
        "following:\n",
        "1. If your mark is greater than or equal to 80, print that you\n",
        "got grade A.\n",
        "2 If your mark is is greater than or equal to 60 and less than\n",
        "80, you print that you got grade B.\n",
        "3. Else, print that you got grade C."
      ],
      "metadata": {
        "id": "077A1Qip1TXb"
      }
    },
    {
      "cell_type": "code",
      "source": [
        "z = 0\n",
        "x = float(input('Enter the value of x: '))\n",
        "y = float(input('Enter the value of y: '))\n",
        "\n",
        "if x > 0:\n",
        "  if y > 0:\n",
        "    z = x + y\n",
        "    print('The value of x is {}, y is {} and the z is {}.'.format(x,y,z))\n",
        "  else:\n",
        "    print('The value of y is nagative or 0')\n",
        "else:\n",
        "  print('The value of x is nagative or 0')"
      ],
      "metadata": {
        "id": "yvlCArFj1gVi"
      },
      "execution_count": null,
      "outputs": []
    }
  ]
}