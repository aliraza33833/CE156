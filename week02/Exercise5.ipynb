{
  "nbformat": 4,
  "nbformat_minor": 0,
  "metadata": {
    "colab": {
      "name": "Exercise5.ipynb",
      "provenance": [],
      "authorship_tag": "ABX9TyN/yg9ebQNA3XnvUgqsLVri",
      "include_colab_link": true
    },
    "kernelspec": {
      "name": "python3",
      "display_name": "Python 3"
    },
    "language_info": {
      "name": "python"
    }
  },
  "cells": [
    {
      "cell_type": "markdown",
      "metadata": {
        "id": "view-in-github",
        "colab_type": "text"
      },
      "source": [
        "<a href=\"https://colab.research.google.com/github/aliraza33833/CE156/blob/main/week02/Exercise5.ipynb\" target=\"_parent\"><img src=\"https://colab.research.google.com/assets/colab-badge.svg\" alt=\"Open In Colab\"/></a>"
      ]
    },
    {
      "cell_type": "markdown",
      "source": [
        "• Write a script with two main branches in which the first\n",
        "branch states that “if” your mark is greater than 50, you print\n",
        "that you “pass”; the second branch states that “else” you\n",
        "print that you “fail”.\n",
        "• In the first branch, subdivide the print functions as per the\n",
        "following:\n",
        "1. If your mark is greater than or equal to 80, print that you\n",
        "got grade A.\n",
        "2 If your mark is is greater than or equal to 60 and less than\n",
        "80, you print that you got grade B.\n",
        "3. Else, print that you got grade C."
      ],
      "metadata": {
        "id": "077A1Qip1TXb"
      }
    },
    {
      "cell_type": "code",
      "source": [
        "marks = float(input('Enter the value of marks: '))\n",
        "\n",
        "if marks > 50:\n",
        "  print('Congratulations you are Pass')\n",
        "  if marks >= 80:\n",
        "    print('And you got grade A.')\n",
        "  elif marks >= 60 and marks < 80:    \n",
        "    print('And you got grade B.')\n",
        "  else:  \n",
        "    print('And you got grade C.')\n",
        "else:\n",
        "  print('Sorry you are Fail.')"
      ],
      "metadata": {
        "colab": {
          "base_uri": "https://localhost:8080/"
        },
        "id": "yvlCArFj1gVi",
        "outputId": "f04b2e0a-394c-4708-c516-8af5c457ef1e"
      },
      "execution_count": 19,
      "outputs": [
        {
          "output_type": "stream",
          "name": "stdout",
          "text": [
            "Enter the value of marks: 78\n",
            "Congratulations you are Pass\n",
            "And you got grade B.\n"
          ]
        }
      ]
    }
  ]
}