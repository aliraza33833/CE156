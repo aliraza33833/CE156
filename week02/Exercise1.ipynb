{
  "nbformat": 4,
  "nbformat_minor": 0,
  "metadata": {
    "colab": {
      "name": "Exercise 1.ipynb",
      "provenance": [],
      "authorship_tag": "ABX9TyPrwkFv3FyHVyl6bdfePBF4",
      "include_colab_link": true
    },
    "kernelspec": {
      "name": "python3",
      "display_name": "Python 3"
    },
    "language_info": {
      "name": "python"
    }
  },
  "cells": [
    {
      "cell_type": "markdown",
      "metadata": {
        "id": "view-in-github",
        "colab_type": "text"
      },
      "source": [
        "<a href=\"https://colab.research.google.com/github/aliraza33833/CE156/blob/main/week02/Exercise1.ipynb\" target=\"_parent\"><img src=\"https://colab.research.google.com/assets/colab-badge.svg\" alt=\"Open In Colab\"/></a>"
      ]
    },
    {
      "cell_type": "code",
      "execution_count": 3,
      "metadata": {
        "colab": {
          "base_uri": "https://localhost:8080/"
        },
        "id": "6KC41b3gmueC",
        "outputId": "0d3f5410-383b-4d4f-ce6b-f6ff84fd7615"
      },
      "outputs": [
        {
          "output_type": "stream",
          "name": "stdout",
          "text": [
            "x > y is False\n"
          ]
        }
      ],
      "source": [
        "x = 20 \n",
        "y = 40\n",
        "print('x > y is',x>y)"
      ]
    },
    {
      "cell_type": "code",
      "source": [
        "x = 20 \n",
        "y = 40\n",
        "print('x < y is',x<y)"
      ],
      "metadata": {
        "colab": {
          "base_uri": "https://localhost:8080/"
        },
        "id": "-RyjpjmAnQwk",
        "outputId": "1c1332d9-a378-4c1b-f35b-a2ffe487fc06"
      },
      "execution_count": 4,
      "outputs": [
        {
          "output_type": "stream",
          "name": "stdout",
          "text": [
            "x < y is True\n"
          ]
        }
      ]
    },
    {
      "cell_type": "code",
      "source": [
        "x = 20 \n",
        "y = 40\n",
        "print('x == y is',x==y)"
      ],
      "metadata": {
        "colab": {
          "base_uri": "https://localhost:8080/"
        },
        "id": "np2y4CjmnS1L",
        "outputId": "310fd1bd-2935-4164-9a6d-85a0daf22c37"
      },
      "execution_count": 5,
      "outputs": [
        {
          "output_type": "stream",
          "name": "stdout",
          "text": [
            "x == y is False\n"
          ]
        }
      ]
    },
    {
      "cell_type": "code",
      "source": [
        "x = 20 \n",
        "y = 40\n",
        "print('x != y is',x!=y)"
      ],
      "metadata": {
        "colab": {
          "base_uri": "https://localhost:8080/"
        },
        "id": "qLQ6Fz92nS3q",
        "outputId": "e42a1526-4770-4b74-82eb-7dab656b45f1"
      },
      "execution_count": 6,
      "outputs": [
        {
          "output_type": "stream",
          "name": "stdout",
          "text": [
            "x != y is True\n"
          ]
        }
      ]
    },
    {
      "cell_type": "code",
      "source": [
        "x = 20 \n",
        "y = 40\n",
        "print('x >= y is',x>=y)"
      ],
      "metadata": {
        "colab": {
          "base_uri": "https://localhost:8080/"
        },
        "id": "dWxxjlAqnS6I",
        "outputId": "a748978c-a6fb-44ae-b5ec-3aeefb677d69"
      },
      "execution_count": 7,
      "outputs": [
        {
          "output_type": "stream",
          "name": "stdout",
          "text": [
            "x >= y is False\n"
          ]
        }
      ]
    },
    {
      "cell_type": "code",
      "source": [
        "x = 20 \n",
        "y = 40\n",
        "print('x <= y is',x<=y)"
      ],
      "metadata": {
        "colab": {
          "base_uri": "https://localhost:8080/"
        },
        "id": "nKR5QIBonS9a",
        "outputId": "78209eb5-45c1-4b7d-9739-f8ba2f07696e"
      },
      "execution_count": 8,
      "outputs": [
        {
          "output_type": "stream",
          "name": "stdout",
          "text": [
            "x <= y is True\n"
          ]
        }
      ]
    }
  ]
}