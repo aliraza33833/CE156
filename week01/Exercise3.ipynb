{
  "nbformat": 4,
  "nbformat_minor": 0,
  "metadata": {
    "colab": {
      "name": "Exercise3.ipynb",
      "provenance": [],
      "authorship_tag": "ABX9TyNylN3fC90zVXfYsepHEVAT",
      "include_colab_link": true
    },
    "kernelspec": {
      "name": "python3",
      "display_name": "Python 3"
    },
    "language_info": {
      "name": "python"
    }
  },
  "cells": [
    {
      "cell_type": "markdown",
      "metadata": {
        "id": "view-in-github",
        "colab_type": "text"
      },
      "source": [
        "<a href=\"https://colab.research.google.com/github/aliraza33833/CE156/blob/main/week01/Exercise3.ipynb\" target=\"_parent\"><img src=\"https://colab.research.google.com/assets/colab-badge.svg\" alt=\"Open In Colab\"/></a>"
      ]
    },
    {
      "cell_type": "code",
      "execution_count": 2,
      "metadata": {
        "colab": {
          "base_uri": "https://localhost:8080/"
        },
        "id": "xYnNrSkCLH9O",
        "outputId": "f8d1d67e-68bb-4316-e1e9-89b0f94ed264"
      },
      "outputs": [
        {
          "output_type": "stream",
          "name": "stdout",
          "text": [
            "New x and y values are  12 ,  4\n"
          ]
        }
      ],
      "source": [
        "x = 8\n",
        "y = 4\n",
        "x += y\n",
        "print('New x and y values are ', x, ', ', y)"
      ]
    },
    {
      "cell_type": "code",
      "source": [
        "x = 8\n",
        "y = 4\n",
        "x -= y\n",
        "print('New x and y values are ', x, ', ', y)"
      ],
      "metadata": {
        "colab": {
          "base_uri": "https://localhost:8080/"
        },
        "id": "lNd6rCkILkiT",
        "outputId": "f86435c9-20f8-432e-e488-f6c1d43b3ddc"
      },
      "execution_count": 3,
      "outputs": [
        {
          "output_type": "stream",
          "name": "stdout",
          "text": [
            "New x and y values are  4 ,  4\n"
          ]
        }
      ]
    },
    {
      "cell_type": "code",
      "source": [
        "x = 8\n",
        "y = 4\n",
        "x *= y\n",
        "print('New x and y values are ', x, ', ', y)"
      ],
      "metadata": {
        "colab": {
          "base_uri": "https://localhost:8080/"
        },
        "id": "WFsl6VWVLlF7",
        "outputId": "8e5936ec-0183-4496-b443-6ceb76774fc8"
      },
      "execution_count": 4,
      "outputs": [
        {
          "output_type": "stream",
          "name": "stdout",
          "text": [
            "New x and y values are  32 ,  4\n"
          ]
        }
      ]
    },
    {
      "cell_type": "code",
      "source": [
        "x = 8\n",
        "y = 4\n",
        "x /= y\n",
        "print('New x and y values are ', x, ', ', y)"
      ],
      "metadata": {
        "colab": {
          "base_uri": "https://localhost:8080/"
        },
        "id": "7FHoHWv6Llw-",
        "outputId": "cd95449d-8a7a-4f8d-b56c-a2446e19139e"
      },
      "execution_count": 5,
      "outputs": [
        {
          "output_type": "stream",
          "name": "stdout",
          "text": [
            "New x and y values are  2.0 ,  4\n"
          ]
        }
      ]
    },
    {
      "cell_type": "code",
      "source": [
        "x = 8\n",
        "y = 4\n",
        "x %= y\n",
        "print('New x and y values are ', x, ', ', y)"
      ],
      "metadata": {
        "colab": {
          "base_uri": "https://localhost:8080/"
        },
        "id": "ElpViCtGLmLM",
        "outputId": "b706c46b-9904-43e1-fcc5-5b2110ab5766"
      },
      "execution_count": 6,
      "outputs": [
        {
          "output_type": "stream",
          "name": "stdout",
          "text": [
            "New x and y values are  0 ,  4\n"
          ]
        }
      ]
    },
    {
      "cell_type": "code",
      "source": [
        "x = 8\n",
        "y = 4\n",
        "x //= y\n",
        "print('New x and y values are ', x, ', ', y)"
      ],
      "metadata": {
        "colab": {
          "base_uri": "https://localhost:8080/"
        },
        "id": "j6SOjC26Lml1",
        "outputId": "84ed8100-2bb1-4c03-d2f8-b83486464852"
      },
      "execution_count": 7,
      "outputs": [
        {
          "output_type": "stream",
          "name": "stdout",
          "text": [
            "New x and y values are  2 ,  4\n"
          ]
        }
      ]
    },
    {
      "cell_type": "code",
      "source": [
        "x = 8\n",
        "y = 4\n",
        "x **= y\n",
        "print('New x and y values are ', x, ', ', y)"
      ],
      "metadata": {
        "colab": {
          "base_uri": "https://localhost:8080/"
        },
        "id": "zWaf3g1dLm_o",
        "outputId": "ad7fb2cb-138b-4d9d-ff46-7a15b4719789"
      },
      "execution_count": 8,
      "outputs": [
        {
          "output_type": "stream",
          "name": "stdout",
          "text": [
            "New x and y values are  4096 ,  4\n"
          ]
        }
      ]
    }
  ]
}