{
  "nbformat": 4,
  "nbformat_minor": 0,
  "metadata": {
    "colab": {
      "name": "Exercise4.ipynb",
      "provenance": [],
      "collapsed_sections": [],
      "authorship_tag": "ABX9TyP4sa8PWwZRi7YoWdBEqy9h",
      "include_colab_link": true
    },
    "kernelspec": {
      "name": "python3",
      "display_name": "Python 3"
    },
    "language_info": {
      "name": "python"
    }
  },
  "cells": [
    {
      "cell_type": "markdown",
      "metadata": {
        "id": "view-in-github",
        "colab_type": "text"
      },
      "source": [
        "<a href=\"https://colab.research.google.com/github/aliraza33833/CE156/blob/main/week01/Exercise4.ipynb\" target=\"_parent\"><img src=\"https://colab.research.google.com/assets/colab-badge.svg\" alt=\"Open In Colab\"/></a>"
      ]
    },
    {
      "cell_type": "markdown",
      "source": [
        "Calculate the **area** and the **circumference** of a circle. A=πr² and C=2πr"
      ],
      "metadata": {
        "id": "PtOHAe8tNfRN"
      }
    },
    {
      "cell_type": "code",
      "source": [
        "import math \n",
        "\n",
        "radius = float(input(\"Please enter the radius of a circle: \"))\n",
        "\n",
        "area = math.pi * math.pow(radius,2)\n",
        "circumference = 2 * math.pi * radius\n",
        "\n",
        "print('The Area of a circle is: ',area)\n",
        "print('The Circumference of a circle is: ',circumference)"
      ],
      "metadata": {
        "colab": {
          "base_uri": "https://localhost:8080/"
        },
        "id": "Qh1-Zd76NnKy",
        "outputId": "83cccea9-5766-4b28-87fb-1ece75fcdae5"
      },
      "execution_count": 4,
      "outputs": [
        {
          "output_type": "stream",
          "name": "stdout",
          "text": [
            "Please enter the radius of a circle: 15\n",
            "The Area of a circle is:  706.8583470577034\n",
            "The Circumference of a circle is:  94.24777960769379\n"
          ]
        }
      ]
    }
  ]
}